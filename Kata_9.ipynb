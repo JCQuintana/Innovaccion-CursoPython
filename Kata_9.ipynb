{
 "cells": [
  {
   "cell_type": "code",
   "execution_count": 12,
   "metadata": {},
   "outputs": [
    {
     "name": "stdout",
     "output_type": "stream",
     "text": [
      "El promedio de combustible en los 3 tanques es: 8.0 litros\n",
      "                Tanque 1: 5\n",
      "                Tanque 2: 6\n",
      "                Tanque 3: 13\n"
     ]
    }
   ],
   "source": [
    "def average(*args):\n",
    "    total = sum(args)\n",
    "    h_many = len(args)\n",
    "    return total/h_many\n",
    "\n",
    "def tanks(tank1, tank2, tank3):\n",
    "    return f'''El promedio de combustible en los 3 tanques es: {average(tank1,tank2,tank3)} litros\n",
    "                Tanque 1: {tank1}\n",
    "                Tanque 2: {tank2}\n",
    "                Tanque 3: {tank3}'''\n",
    "\n",
    "\n",
    "print(tanks(5,6,13))"
   ]
  },
  {
   "cell_type": "code",
   "execution_count": 13,
   "metadata": {},
   "outputs": [
    {
     "name": "stdout",
     "output_type": "stream",
     "text": [
      " Estos son datos de la mision:\n",
      "        Hora de lanzamiento: 10\n",
      "        Tiempo de vuelo: 100\n",
      "        Destino: Moon\n",
      "        Tanque Externo: 1234\n",
      "        Tanque Interno: 5678\n"
     ]
    }
   ],
   "source": [
    "def mission(launch_t, flight_t, destination, ext_tank, int_tank):\n",
    "    return f''' Estos son datos de la mision:\n",
    "        Hora de lanzamiento: {launch_t}\n",
    "        Tiempo de vuelo: {flight_t}\n",
    "        Destino: {destination}\n",
    "        Tanque Externo: {ext_tank}\n",
    "        Tanque Interno: {int_tank}'''\n",
    "\n",
    "print(mission(10, 100, \"Moon\", 1234, 5678))\n"
   ]
  },
  {
   "cell_type": "code",
   "execution_count": 23,
   "metadata": {},
   "outputs": [
    {
     "name": "stdout",
     "output_type": "stream",
     "text": [
      "La mision a Mars tendra un tiempo total de viaje de 110 minutos, quedan 600 litros de combustible en los tanques\n",
      "tank1: 300\n",
      "tank2: 200\n",
      "tank3: 100\n",
      "\n"
     ]
    }
   ],
   "source": [
    "def mission1(destination1, *time, **fuel):\n",
    "    message = f'''La mision a {destination1} tendra un tiempo total de viaje de {sum(time)} minutos, quedan {sum(fuel.values())} litros de combustible en los tanques\\n'''\n",
    "    for i,j in fuel.items():\n",
    "       message += f'{i}: {j}\\n'\n",
    "    return message\n",
    "\n",
    "print(mission1(\"Mars\", 50, 60, tank1=300, tank2=200, tank3=100))\n"
   ]
  }
 ],
 "metadata": {
  "interpreter": {
   "hash": "7273a176b42714943706a070c75df1fd4b0887ace74aa202887c86b7aedc7faf"
  },
  "kernelspec": {
   "display_name": "Python 3.10.2 64-bit",
   "language": "python",
   "name": "python3"
  },
  "language_info": {
   "codemirror_mode": {
    "name": "ipython",
    "version": 3
   },
   "file_extension": ".py",
   "mimetype": "text/x-python",
   "name": "python",
   "nbconvert_exporter": "python",
   "pygments_lexer": "ipython3",
   "version": "3.10.2"
  },
  "orig_nbformat": 4
 },
 "nbformat": 4,
 "nbformat_minor": 2
}
