{
 "cells": [
  {
   "cell_type": "code",
   "execution_count": 8,
   "metadata": {},
   "outputs": [
    {
     "name": "stdout",
     "output_type": "stream",
     "text": [
      "There are 8 planets on this galaxy\n",
      "A planet has been added, actually, there are 9 planets on this galaxy\n",
      "Pluto is the last planet\n"
     ]
    }
   ],
   "source": [
    "planets = ['Mercury', 'Venus', 'Earth', 'Mars', 'Jupiter', 'Saturn', 'Uranus', 'Neptune']\n",
    "\n",
    "print('There are', len(planets), 'planets on this galaxy')\n",
    "\n",
    "planets.append('Pluto')\n",
    "\n",
    "print('A planet has been added, actually, there are', len(planets), 'planets on this galaxy')\n",
    "print(planets[-1], 'is the last planet')\n"
   ]
  },
  {
   "cell_type": "code",
   "execution_count": 14,
   "metadata": {},
   "outputs": [
    {
     "name": "stdout",
     "output_type": "stream",
     "text": [
      "Estos planetas se encuentran antes que Mars:\n",
      " ['Mercury', 'Venus', 'Earth']\n",
      "Estos planetas se encuentran despues que Mars:\n",
      " ['Jupiter', 'Saturn', 'Uranus', 'Neptune', 'Pluto']\n"
     ]
    }
   ],
   "source": [
    "planet = input('Introduce tu planeta')\n",
    "\n",
    "p_index = planets.index(planet)\n",
    "\n",
    "print('Estos planetas se encuentran antes que',  planet + ':\\n', planets[0:p_index])\n",
    "\n",
    "print('Estos planetas se encuentran despues que',  planet + ':\\n', planets[p_index + 1:])"
   ]
  }
 ],
 "metadata": {
  "interpreter": {
   "hash": "7273a176b42714943706a070c75df1fd4b0887ace74aa202887c86b7aedc7faf"
  },
  "kernelspec": {
   "display_name": "Python 3.10.2 64-bit",
   "language": "python",
   "name": "python3"
  },
  "language_info": {
   "codemirror_mode": {
    "name": "ipython",
    "version": 3
   },
   "file_extension": ".py",
   "mimetype": "text/x-python",
   "name": "python",
   "nbconvert_exporter": "python",
   "pygments_lexer": "ipython3",
   "version": "3.10.2"
  },
  "orig_nbformat": 4
 },
 "nbformat": 4,
 "nbformat_minor": 2
}
