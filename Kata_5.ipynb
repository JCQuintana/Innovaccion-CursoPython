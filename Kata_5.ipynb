{
 "cells": [
  {
   "cell_type": "code",
   "execution_count": 11,
   "metadata": {},
   "outputs": [
    {
     "name": "stdout",
     "output_type": "stream",
     "text": [
      "distancia entre la Tierra y Jupiter: 628949330 km\n",
      "\n",
      "distancia entre la Tierra y Jupiter: 390577533.93 millas\n"
     ]
    }
   ],
   "source": [
    "# Distancias Tierra y Jupiter\n",
    "\n",
    "earth = 149597870\n",
    "jupiter = 778547200\n",
    "\n",
    "print('distancia entre la Tierra y Jupiter: ' + str(jupiter - earth) + ' km')\n",
    "print('\\ndistancia entre la Tierra y Jupiter: ' + str((jupiter - earth) * .621) + ' millas')\n"
   ]
  },
  {
   "cell_type": "code",
   "execution_count": 17,
   "metadata": {},
   "outputs": [
    {
     "name": "stdout",
     "output_type": "stream",
     "text": [
      "Distancia del primer planeta: 90\n",
      "Distancia del segundo planeta: 78\n",
      "\n",
      "distancia entre ambos planetas: 12 km\n",
      "distancia entre ambos planetas: 7.452 millas\n"
     ]
    }
   ],
   "source": [
    "planet1 = input('Ingresa la distancia del primer planeta en KM')\n",
    "planet2 = input('Ingresa la distancia del segundo planeta en KM')\n",
    "\n",
    "print('Distancia del primer planeta: ' + planet1 )\n",
    "print('Distancia del segundo planeta: ' + planet2  + '\\n')\n",
    "planet1 = int(planet1)\n",
    "planet2 = int(planet2)\n",
    "\n",
    "print('distancia entre ambos planetas: ' + str(abs(planet1 - planet2)) + ' km')\n",
    "print('distancia entre ambos planetas: ' + str(abs((planet1 - planet2)) * .621) + ' millas')\n",
    "\n"
   ]
  }
 ],
 "metadata": {
  "interpreter": {
   "hash": "7273a176b42714943706a070c75df1fd4b0887ace74aa202887c86b7aedc7faf"
  },
  "kernelspec": {
   "display_name": "Python 3.10.2 64-bit",
   "language": "python",
   "name": "python3"
  },
  "language_info": {
   "codemirror_mode": {
    "name": "ipython",
    "version": 3
   },
   "file_extension": ".py",
   "mimetype": "text/x-python",
   "name": "python",
   "nbconvert_exporter": "python",
   "pygments_lexer": "ipython3",
   "version": "3.10.2"
  },
  "orig_nbformat": 4
 },
 "nbformat": 4,
 "nbformat_minor": 2
}
