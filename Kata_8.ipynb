{
 "cells": [
  {
   "cell_type": "code",
   "execution_count": 14,
   "metadata": {},
   "outputs": [
    {
     "name": "stdout",
     "output_type": "stream",
     "text": [
      "El nombre del planeta es mars y tiene 42 lunas\n",
      "El planeta mars tiene de diametro polar: 6752 km\n"
     ]
    }
   ],
   "source": [
    "planet = {\n",
    "    'name': 'mars',\n",
    "    'moons': 42\n",
    "}\n",
    "\n",
    "print(f'El nombre del planeta es {planet[\"name\"]} y tiene {planet[\"moons\"]} lunas')\n",
    "\n",
    "planet['diameter'] = {\n",
    "    'polar': 6752,\n",
    "    'equatorial': 6792\n",
    "}\n",
    "print(f'El planeta {planet[\"name\"]} tiene de diametro polar: {planet[\"diameter\"][\"polar\"]} km')\n",
    "\n"
   ]
  },
  {
   "cell_type": "code",
   "execution_count": 16,
   "metadata": {},
   "outputs": [
    {
     "name": "stdout",
     "output_type": "stream",
     "text": [
      "Hay un total de 214 lunas en la galaxia\n",
      "Hay un promedio de 17.833333333333332 lunas por planeta\n"
     ]
    }
   ],
   "source": [
    "planet_moons = {\n",
    "    'mercury': 0,\n",
    "    'venus': 0,\n",
    "    'earth': 1,\n",
    "    'mars': 2,\n",
    "    'jupiter': 79,\n",
    "    'saturn': 82,\n",
    "    'uranus': 27,\n",
    "    'neptune': 14,\n",
    "    'pluto': 5,\n",
    "    'haumea': 2,\n",
    "    'makemake': 1,\n",
    "    'eris': 1\n",
    "}\n",
    "\n",
    "total_moons = 0\n",
    "for i in planet_moons.values():\n",
    "    total_moons = total_moons + i\n",
    "\n",
    "print(f'Hay un total de {total_moons} lunas en la galaxia')\n",
    "\n",
    "average = total_moons / len(planet_moons.keys())\n",
    "\n",
    "print (f'Hay un promedio de {average} lunas por planeta')"
   ]
  }
 ],
 "metadata": {
  "interpreter": {
   "hash": "7273a176b42714943706a070c75df1fd4b0887ace74aa202887c86b7aedc7faf"
  },
  "kernelspec": {
   "display_name": "Python 3.10.2 64-bit",
   "language": "python",
   "name": "python3"
  },
  "language_info": {
   "codemirror_mode": {
    "name": "ipython",
    "version": 3
   },
   "file_extension": ".py",
   "mimetype": "text/x-python",
   "name": "python",
   "nbconvert_exporter": "python",
   "pygments_lexer": "ipython3",
   "version": "3.10.2"
  },
  "orig_nbformat": 4
 },
 "nbformat": 4,
 "nbformat_minor": 2
}
