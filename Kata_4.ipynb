{
 "cells": [
  {
   "cell_type": "code",
   "execution_count": 23,
   "metadata": {},
   "outputs": [
    {
     "name": "stdout",
     "output_type": "stream",
     "text": [
      "['Interesting facts about the Moon', \"The Moon is Earth's only satellite\", 'There are several interesting facts about the Moon and how it affects life here on Earth', '\\nOn average, the Moon moves 4cm away from the Earth every year', 'This yearly drift is not significant enough to cause immediate effects on Earth', 'The highest daylight temperature of the Moon is 127 C.']\n",
      "\n",
      "On average, the Moon moves 4cm away from the Earth every year\n",
      "The highest daylight temperature of the Moon is 127 C.\n",
      "\n",
      "\n",
      "The highest daylight temperature of the Moon is 127 Celcius.\n"
     ]
    }
   ],
   "source": [
    "text = \"\"\"Interesting facts about the Moon. The Moon is Earth's only satellite. There are several interesting facts about the Moon and how it affects life here on Earth. \n",
    "On average, the Moon moves 4cm away from the Earth every year. This yearly drift is not significant enough to cause immediate effects on Earth. The highest daylight temperature of the Moon is 127 C.\"\"\"\n",
    "\n",
    "sentences = text.split('. ')\n",
    "\n",
    "print (sentences)\n",
    "\n",
    "'average' in sentences\n",
    "'temperature' in sentences\n",
    "'distance' in sentences\n",
    "\n",
    "words = ['average', 'temperature', 'distance']\n",
    "for i in sentences:\n",
    "    for f in words:\n",
    "        if f in i:\n",
    "            print(i)\n",
    "            break\n",
    "\n",
    "grade = 'C'\n",
    "for g in sentences:\n",
    "    if grade in g:\n",
    "        print('\\n')\n",
    "        print(g.replace('C', 'Celcius'))\n",
    "        \n",
    "        "
   ]
  },
  {
   "cell_type": "code",
   "execution_count": 39,
   "metadata": {},
   "outputs": [
    {
     "name": "stdout",
     "output_type": "stream",
     "text": [
      "datos de gravedad sobre Earth's Moon\n",
      "\n",
      "\n",
      "Datos De Gravedad Sobre Earth'S Moon\n",
      " ------------------------------------------- \n",
      " Planet Name: Earth \n",
      " Gravity on the Moon: 1.6199999999999999\n",
      "\n",
      "\n",
      "Datos De Gravedad Sobre Marte 'S Ganímedes\n",
      " ------------------------------------------- \n",
      " Planet Name: Marte  \n",
      " Gravity on Ganímedes: 1.4300000000000002\n"
     ]
    }
   ],
   "source": [
    "# Datos con los que vas a trabajar\n",
    "name = \"Moon\"\n",
    "gravity = 0.00162 # in kms\n",
    "planet = \"Earth\"\n",
    "\n",
    "title = f\"datos de gravedad sobre {planet}'s {name}\"\n",
    "\n",
    "print(title)\n",
    "print('\\n')\n",
    "\n",
    "template = title.title() + f'\\n ------------------------------------------- \\n Planet Name: {planet} \\n Gravity on the {name}: ' + str(gravity * 1000)\n",
    "\n",
    "print(template.format())\n",
    "\n",
    "planeta = 'Marte '\n",
    "gravedad  = 0.00143\n",
    "nombre = 'Ganímedes'\n",
    "\n",
    "title2 = f\"datos de gravedad sobre {planeta}'s {nombre}\"\n",
    "template2 = title2.title() + f'\\n ------------------------------------------- \\n Planet Name: {planeta} \\n Gravity on {nombre}: ' + str(gravedad * 1000)\n",
    "print('\\n')\n",
    "print(template2.format())"
   ]
  }
 ],
 "metadata": {
  "interpreter": {
   "hash": "7273a176b42714943706a070c75df1fd4b0887ace74aa202887c86b7aedc7faf"
  },
  "kernelspec": {
   "display_name": "Python 3.10.2 64-bit",
   "language": "python",
   "name": "python3"
  },
  "language_info": {
   "codemirror_mode": {
    "name": "ipython",
    "version": 3
   },
   "file_extension": ".py",
   "mimetype": "text/x-python",
   "name": "python",
   "nbconvert_exporter": "python",
   "pygments_lexer": "ipython3",
   "version": "3.10.2"
  },
  "orig_nbformat": 4
 },
 "nbformat": 4,
 "nbformat_minor": 2
}
