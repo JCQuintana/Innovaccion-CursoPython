{
 "cells": [
  {
   "cell_type": "code",
   "execution_count": 13,
   "metadata": {},
   "outputs": [
    {
     "name": "stdout",
     "output_type": "stream",
     "text": [
      "Se acerca un asteroide a 49 km/s\n"
     ]
    }
   ],
   "source": [
    "speed_1 = 49\n",
    "speed_2 = 19\n",
    "if speed_1 > 25 or speed_2 > 25:\n",
    "    print (\"Se acerca un asteroide a \" + str(speed_1) + \" km/s\")\n",
    "elif speed_1 >= 20 or speed_2 >= 20:\n",
    "    print (\"Miren al cielo un asteroide!\")\n",
    "else:\n",
    "    print(\"Monitorendo: todo esta bien\")"
   ]
  },
  {
   "cell_type": "code",
   "execution_count": 21,
   "metadata": {},
   "outputs": [
    {
     "name": "stdout",
     "output_type": "stream",
     "text": [
      "Se acerca un asteroide a 60 km/s\n"
     ]
    }
   ],
   "source": [
    "dimension = 10\n",
    "speed = 60\n",
    "if dimension >= 25 or speed > 25:\n",
    "    if dimension >= 25 and speed > 25:\n",
    "        print (\"Peligro, se acerca un asteroide que causara mucho daño\")\n",
    "    elif dimension >= 25:\n",
    "        print (\"Se acerca un asteroide muy grande\")\n",
    "    else:\n",
    "        print (\"Se acerca un asteroide a \" + str(speed) + \" km/s\")\n",
    "else:\n",
    "    print (\"Monitorendo: todo esta bien\")"
   ]
  }
 ],
 "metadata": {
  "interpreter": {
   "hash": "63fd5069d213b44bf678585dea6b12cceca9941eaf7f819626cde1f2670de90d"
  },
  "kernelspec": {
   "display_name": "Python 3.9.1 64-bit",
   "language": "python",
   "name": "python3"
  },
  "language_info": {
   "codemirror_mode": {
    "name": "ipython",
    "version": 3
   },
   "file_extension": ".py",
   "mimetype": "text/x-python",
   "name": "python",
   "nbconvert_exporter": "python",
   "pygments_lexer": "ipython3",
   "version": "3.9.1"
  },
  "orig_nbformat": 4
 },
 "nbformat": 4,
 "nbformat_minor": 2
}
